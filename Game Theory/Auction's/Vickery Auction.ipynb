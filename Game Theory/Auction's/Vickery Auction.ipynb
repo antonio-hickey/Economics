{
 "cells": [
  {
   "cell_type": "code",
   "execution_count": 1,
   "metadata": {},
   "outputs": [],
   "source": [
    "import numpy as np\n",
    "from numpy import random\n",
    "from random import randrange"
   ]
  },
  {
   "cell_type": "markdown",
   "metadata": {},
   "source": [
    "# Vickery Auction Simulation\n",
    "\n",
    "An auction environment where ${n}$ amount of bidders  ( ${B}_i$, ${B}_j$, ... ,${B}_n$ ) make a private bid, and the largest bidder wins, but they pay the 2nd largest bid. \n",
    "\n",
    "Let ${B}_i$ represent $i$'s bid and ${S}_i$ represent $i$'s signal."
   ]
  },
  {
   "cell_type": "code",
   "execution_count": 1,
   "metadata": {},
   "outputs": [],
   "source": [
    "def game(i,j,f,h,n):\n",
    "    #----------------------------------\n",
    "    # Bidders\n",
    "    b_i = i\n",
    "    b_j = j\n",
    "    b_f = f\n",
    "    b_h = h\n",
    "    b_n = n\n",
    "    #-----------------------------------\n",
    "    # List of their bids\n",
    "    bids = [b_i,b_j,b_f,b_h,b_n]\n",
    "    print('List of Bids: ',bids)\n",
    "    #-----------------------------------\n",
    "    # Largest Bid\n",
    "    winner = max(bids)\n",
    "    #----------------------------------\n",
    "    # Secondary List (Losing Bids)\n",
    "    secondary_list = [] #Null\n",
    "    #----------------------------------\n",
    "    # Loop through each bid\n",
    "    for i in bids:\n",
    "    #----------------------------------\n",
    "        # Isolate winning bid from other bids\n",
    "        if i<winner:\n",
    "        #----------------------------------\n",
    "            # Append other bids to null list\n",
    "            secondary_list.append(i)\n",
    "            #----------------------------------\n",
    "            # Calculating Largest bid in other bids\n",
    "            priceDue = max(secondary_list)\n",
    "            #----------------------------------\n",
    "        #---------------------------------- \n",
    "    #----------------------------------\n",
    "    if winner == b_i:\n",
    "        winner_id = \"Bidder 1\"\n",
    "    if winner == b_j:\n",
    "        winner_id = \"Bidder 2\"\n",
    "    if winner == b_f:\n",
    "        winner_id = \"Bidder 3\"\n",
    "    if winner == b_h:\n",
    "        winner_id = \"Bidder 4\"\n",
    "    if winner == b_n:\n",
    "        winner_id = \"Bidder 5\"\n",
    "    #----------------------------------\n",
    "    margin = winner - priceDue\n",
    "    #----------------------------------\n",
    "    print('Winning Bid: ',winner_id,' ',winner,'\\n',\n",
    "          'Price Paid: ',priceDue,'\\n','Margin: ',margin,'\\n')\n",
    "    #----------------------------------\n",
    "    "
   ]
  },
  {
   "cell_type": "code",
   "execution_count": 2,
   "metadata": {
    "tags": [
     "outputPrepend"
    ]
   },
   "outputs": [
    {
     "output_type": "stream",
     "name": "stdout",
     "text": "uctions left to win:  0\nBidder 5's Required # of Auctions left to win:  0\nBidder 1's average price paid:  1312.5\nList of Bids:  [2250.0, 0, 1312.5, 0, 0]\nWinning Bid:  Bidder 1   2250.0 \n Price Paid:  1312.5 \n Margin:  937.5 \n\nNumber of auctions left:  47\nBidder 1's Required # of Auctions left to win:  7\nBidder 2's Required # of Auctions left to win:  0\nBidder 3's Required # of Auctions left to win:  40\nBidder 4's Required # of Auctions left to win:  0\nBidder 5's Required # of Auctions left to win:  0\nBidder 1's average price paid:  1312.5\nList of Bids:  [2250.0, 0, 1312.5, 0, 0]\nWinning Bid:  Bidder 1   2250.0 \n Price Paid:  1312.5 \n Margin:  937.5 \n\nNumber of auctions left:  46\nBidder 1's Required # of Auctions left to win:  6\nBidder 2's Required # of Auctions left to win:  0\nBidder 3's Required # of Auctions left to win:  40\nBidder 4's Required # of Auctions left to win:  0\nBidder 5's Required # of Auctions left to win:  0\nBidder 1's average price paid:  1312.5\nList of Bids:  [2250.0, 0, 1312.5, 0, 0]\nWinning Bid:  Bidder 1   2250.0 \n Price Paid:  1312.5 \n Margin:  937.5 \n\nNumber of auctions left:  45\nBidder 1's Required # of Auctions left to win:  5\nBidder 2's Required # of Auctions left to win:  0\nBidder 3's Required # of Auctions left to win:  40\nBidder 4's Required # of Auctions left to win:  0\nBidder 5's Required # of Auctions left to win:  0\nBidder 1's average price paid:  1312.5\nList of Bids:  [2250.0, 0, 1312.5, 0, 0]\nWinning Bid:  Bidder 1   2250.0 \n Price Paid:  1312.5 \n Margin:  937.5 \n\nNumber of auctions left:  44\nBidder 1's Required # of Auctions left to win:  4\nBidder 2's Required # of Auctions left to win:  0\nBidder 3's Required # of Auctions left to win:  40\nBidder 4's Required # of Auctions left to win:  0\nBidder 5's Required # of Auctions left to win:  0\nBidder 1's average price paid:  1312.5\nList of Bids:  [2250.0, 0, 1312.5, 0, 0]\nWinning Bid:  Bidder 1   2250.0 \n Price Paid:  1312.5 \n Margin:  937.5 \n\nNumber of auctions left:  43\nBidder 1's Required # of Auctions left to win:  3\nBidder 2's Required # of Auctions left to win:  0\nBidder 3's Required # of Auctions left to win:  40\nBidder 4's Required # of Auctions left to win:  0\nBidder 5's Required # of Auctions left to win:  0\nBidder 1's average price paid:  1312.5\nList of Bids:  [2250.0, 0, 1312.5, 0, 0]\nWinning Bid:  Bidder 1   2250.0 \n Price Paid:  1312.5 \n Margin:  937.5 \n\nNumber of auctions left:  42\nBidder 1's Required # of Auctions left to win:  2\nBidder 2's Required # of Auctions left to win:  0\nBidder 3's Required # of Auctions left to win:  40\nBidder 4's Required # of Auctions left to win:  0\nBidder 5's Required # of Auctions left to win:  0\nBidder 1's average price paid:  1312.5\nList of Bids:  [2250.0, 0, 1312.5, 0, 0]\nWinning Bid:  Bidder 1   2250.0 \n Price Paid:  1312.5 \n Margin:  937.5 \n\nNumber of auctions left:  41\nBidder 1's Required # of Auctions left to win:  1\nBidder 2's Required # of Auctions left to win:  0\nBidder 3's Required # of Auctions left to win:  40\nBidder 4's Required # of Auctions left to win:  0\nBidder 5's Required # of Auctions left to win:  0\nBidder 1's average price paid:  1312.5\nList of Bids:  [2250.0, 0, 1312.5, 0, 0]\nWinning Bid:  Bidder 1   2250.0 \n Price Paid:  1312.5 \n Margin:  937.5 \n\nNumber of auctions left:  40\nBidder 1's Required # of Auctions left to win:  0\nBidder 2's Required # of Auctions left to win:  0\nBidder 3's Required # of Auctions left to win:  40\nBidder 4's Required # of Auctions left to win:  0\nBidder 5's Required # of Auctions left to win:  0\nBidder 3's average price paid:  0\nList of Bids:  [0, 0, 1875.0, 0, 0]\nWinning Bid:  Bidder 3   1875.0 \n Price Paid:  0 \n Margin:  1875.0 \n\nNumber of auctions left:  39\nBidder 1's Required # of Auctions left to win:  0\nBidder 2's Required # of Auctions left to win:  0\nBidder 3's Required # of Auctions left to win:  39\nBidder 4's Required # of Auctions left to win:  0\nBidder 5's Required # of Auctions left to win:  0\nBidder 3's average price paid:  0\nList of Bids:  [0, 0, 1875.0, 0, 0]\nWinning Bid:  Bidder 3   1875.0 \n Price Paid:  0 \n Margin:  1875.0 \n\nNumber of auctions left:  38\nBidder 1's Required # of Auctions left to win:  0\nBidder 2's Required # of Auctions left to win:  0\nBidder 3's Required # of Auctions left to win:  38\nBidder 4's Required # of Auctions left to win:  0\nBidder 5's Required # of Auctions left to win:  0\nBidder 3's average price paid:  0\nList of Bids:  [0, 0, 1875.0, 0, 0]\nWinning Bid:  Bidder 3   1875.0 \n Price Paid:  0 \n Margin:  1875.0 \n\nNumber of auctions left:  37\nBidder 1's Required # of Auctions left to win:  0\nBidder 2's Required # of Auctions left to win:  0\nBidder 3's Required # of Auctions left to win:  37\nBidder 4's Required # of Auctions left to win:  0\nBidder 5's Required # of Auctions left to win:  0\nBidder 3's average price paid:  0\nList of Bids:  [0, 0, 1875.0, 0, 0]\nWinning Bid:  Bidder 3   1875.0 \n Price Paid:  0 \n Margin:  1875.0 \n\nNumber of auctions left:  36\nBidder 1's Required # of Auctions left to win:  0\nBidder 2's Required # of Auctions left to win:  0\nBidder 3's Required # of Auctions left to win:  36\nBidder 4's Required # of Auctions left to win:  0\nBidder 5's Required # of Auctions left to win:  0\nBidder 3's average price paid:  0\nList of Bids:  [0, 0, 1875.0, 0, 0]\nWinning Bid:  Bidder 3   1875.0 \n Price Paid:  0 \n Margin:  1875.0 \n\nNumber of auctions left:  35\nBidder 1's Required # of Auctions left to win:  0\nBidder 2's Required # of Auctions left to win:  0\nBidder 3's Required # of Auctions left to win:  35\nBidder 4's Required # of Auctions left to win:  0\nBidder 5's Required # of Auctions left to win:  0\nBidder 3's average price paid:  0\nList of Bids:  [0, 0, 1875.0, 0, 0]\nWinning Bid:  Bidder 3   1875.0 \n Price Paid:  0 \n Margin:  1875.0 \n\nNumber of auctions left:  34\nBidder 1's Required # of Auctions left to win:  0\nBidder 2's Required # of Auctions left to win:  0\nBidder 3's Required # of Auctions left to win:  34\nBidder 4's Required # of Auctions left to win:  0\nBidder 5's Required # of Auctions left to win:  0\nBidder 3's average price paid:  0\nList of Bids:  [0, 0, 1875.0, 0, 0]\nWinning Bid:  Bidder 3   1875.0 \n Price Paid:  0 \n Margin:  1875.0 \n\nNumber of auctions left:  33\nBidder 1's Required # of Auctions left to win:  0\nBidder 2's Required # of Auctions left to win:  0\nBidder 3's Required # of Auctions left to win:  33\nBidder 4's Required # of Auctions left to win:  0\nBidder 5's Required # of Auctions left to win:  0\nBidder 3's average price paid:  0\nList of Bids:  [0, 0, 1875.0, 0, 0]\nWinning Bid:  Bidder 3   1875.0 \n Price Paid:  0 \n Margin:  1875.0 \n\nNumber of auctions left:  32\nBidder 1's Required # of Auctions left to win:  0\nBidder 2's Required # of Auctions left to win:  0\nBidder 3's Required # of Auctions left to win:  32\nBidder 4's Required # of Auctions left to win:  0\nBidder 5's Required # of Auctions left to win:  0\nBidder 3's average price paid:  0\nList of Bids:  [0, 0, 1875.0, 0, 0]\nWinning Bid:  Bidder 3   1875.0 \n Price Paid:  0 \n Margin:  1875.0 \n\nNumber of auctions left:  31\nBidder 1's Required # of Auctions left to win:  0\nBidder 2's Required # of Auctions left to win:  0\nBidder 3's Required # of Auctions left to win:  31\nBidder 4's Required # of Auctions left to win:  0\nBidder 5's Required # of Auctions left to win:  0\nBidder 3's average price paid:  0\nList of Bids:  [0, 0, 1875.0, 0, 0]\nWinning Bid:  Bidder 3   1875.0 \n Price Paid:  0 \n Margin:  1875.0 \n\nNumber of auctions left:  30\nBidder 1's Required # of Auctions left to win:  0\nBidder 2's Required # of Auctions left to win:  0\nBidder 3's Required # of Auctions left to win:  30\nBidder 4's Required # of Auctions left to win:  0\nBidder 5's Required # of Auctions left to win:  0\nBidder 3's average price paid:  0\nList of Bids:  [0, 0, 1875.0, 0, 0]\nWinning Bid:  Bidder 3   1875.0 \n Price Paid:  0 \n Margin:  1875.0 \n\nNumber of auctions left:  29\nBidder 1's Required # of Auctions left to win:  0\nBidder 2's Required # of Auctions left to win:  0\nBidder 3's Required # of Auctions left to win:  29\nBidder 4's Required # of Auctions left to win:  0\nBidder 5's Required # of Auctions left to win:  0\nBidder 3's average price paid:  0\nList of Bids:  [0, 0, 1875.0, 0, 0]\nWinning Bid:  Bidder 3   1875.0 \n Price Paid:  0 \n Margin:  1875.0 \n\nNumber of auctions left:  28\nBidder 1's Required # of Auctions left to win:  0\nBidder 2's Required # of Auctions left to win:  0\nBidder 3's Required # of Auctions left to win:  28\nBidder 4's Required # of Auctions left to win:  0\nBidder 5's Required # of Auctions left to win:  0\nBidder 3's average price paid:  0\nList of Bids:  [0, 0, 1875.0, 0, 0]\nWinning Bid:  Bidder 3   1875.0 \n Price Paid:  0 \n Margin:  1875.0 \n\nNumber of auctions left:  27\nBidder 1's Required # of Auctions left to win:  0\nBidder 2's Required # of Auctions left to win:  0\nBidder 3's Required # of Auctions left to win:  27\nBidder 4's Required # of Auctions left to win:  0\nBidder 5's Required # of Auctions left to win:  0\nBidder 3's average price paid:  0\nList of Bids:  [0, 0, 1875.0, 0, 0]\nWinning Bid:  Bidder 3   1875.0 \n Price Paid:  0 \n Margin:  1875.0 \n\nNumber of auctions left:  26\nBidder 1's Required # of Auctions left to win:  0\nBidder 2's Required # of Auctions left to win:  0\nBidder 3's Required # of Auctions left to win:  26\nBidder 4's Required # of Auctions left to win:  0\nBidder 5's Required # of Auctions left to win:  0\nBidder 3's average price paid:  0\nList of Bids:  [0, 0, 1875.0, 0, 0]\nWinning Bid:  Bidder 3   1875.0 \n Price Paid:  0 \n Margin:  1875.0 \n\nNumber of auctions left:  25\nBidder 1's Required # of Auctions left to win:  0\nBidder 2's Required # of Auctions left to win:  0\nBidder 3's Required # of Auctions left to win:  25\nBidder 4's Required # of Auctions left to win:  0\nBidder 5's Required # of Auctions left to win:  0\nBidder 3's average price paid:  0\nList of Bids:  [0, 0, 1875.0, 0, 0]\nWinning Bid:  Bidder 3   1875.0 \n Price Paid:  0 \n Margin:  1875.0 \n\nNumber of auctions left:  24\nBidder 1's Required # of Auctions left to win:  0\nBidder 2's Required # of Auctions left to win:  0\nBidder 3's Required # of Auctions left to win:  24\nBidder 4's Required # of Auctions left to win:  0\nBidder 5's Required # of Auctions left to win:  0\nBidder 3's average price paid:  0\nList of Bids:  [0, 0, 1875.0, 0, 0]\nWinning Bid:  Bidder 3   1875.0 \n Price Paid:  0 \n Margin:  1875.0 \n\nNumber of auctions left:  23\nBidder 1's Required # of Auctions left to win:  0\nBidder 2's Required # of Auctions left to win:  0\nBidder 3's Required # of Auctions left to win:  23\nBidder 4's Required # of Auctions left to win:  0\nBidder 5's Required # of Auctions left to win:  0\nBidder 3's average price paid:  0\nList of Bids:  [0, 0, 1875.0, 0, 0]\nWinning Bid:  Bidder 3   1875.0 \n Price Paid:  0 \n Margin:  1875.0 \n\nNumber of auctions left:  22\nBidder 1's Required # of Auctions left to win:  0\nBidder 2's Required # of Auctions left to win:  0\nBidder 3's Required # of Auctions left to win:  22\nBidder 4's Required # of Auctions left to win:  0\nBidder 5's Required # of Auctions left to win:  0\nBidder 3's average price paid:  0\nList of Bids:  [0, 0, 1875.0, 0, 0]\nWinning Bid:  Bidder 3   1875.0 \n Price Paid:  0 \n Margin:  1875.0 \n\nNumber of auctions left:  21\nBidder 1's Required # of Auctions left to win:  0\nBidder 2's Required # of Auctions left to win:  0\nBidder 3's Required # of Auctions left to win:  21\nBidder 4's Required # of Auctions left to win:  0\nBidder 5's Required # of Auctions left to win:  0\nBidder 3's average price paid:  0\nList of Bids:  [0, 0, 1875.0, 0, 0]\nWinning Bid:  Bidder 3   1875.0 \n Price Paid:  0 \n Margin:  1875.0 \n\nNumber of auctions left:  20\nBidder 1's Required # of Auctions left to win:  0\nBidder 2's Required # of Auctions left to win:  0\nBidder 3's Required # of Auctions left to win:  20\nBidder 4's Required # of Auctions left to win:  0\nBidder 5's Required # of Auctions left to win:  0\nBidder 3's average price paid:  0\nList of Bids:  [0, 0, 1875.0, 0, 0]\nWinning Bid:  Bidder 3   1875.0 \n Price Paid:  0 \n Margin:  1875.0 \n\nNumber of auctions left:  19\nBidder 1's Required # of Auctions left to win:  0\nBidder 2's Required # of Auctions left to win:  0\nBidder 3's Required # of Auctions left to win:  19\nBidder 4's Required # of Auctions left to win:  0\nBidder 5's Required # of Auctions left to win:  0\nBidder 3's average price paid:  0\nList of Bids:  [0, 0, 1875.0, 0, 0]\nWinning Bid:  Bidder 3   1875.0 \n Price Paid:  0 \n Margin:  1875.0 \n\nNumber of auctions left:  18\nBidder 1's Required # of Auctions left to win:  0\nBidder 2's Required # of Auctions left to win:  0\nBidder 3's Required # of Auctions left to win:  18\nBidder 4's Required # of Auctions left to win:  0\nBidder 5's Required # of Auctions left to win:  0\nBidder 3's average price paid:  0\nList of Bids:  [0, 0, 1875.0, 0, 0]\nWinning Bid:  Bidder 3   1875.0 \n Price Paid:  0 \n Margin:  1875.0 \n\nNumber of auctions left:  17\nBidder 1's Required # of Auctions left to win:  0\nBidder 2's Required # of Auctions left to win:  0\nBidder 3's Required # of Auctions left to win:  17\nBidder 4's Required # of Auctions left to win:  0\nBidder 5's Required # of Auctions left to win:  0\nBidder 3's average price paid:  0\nList of Bids:  [0, 0, 1875.0, 0, 0]\nWinning Bid:  Bidder 3   1875.0 \n Price Paid:  0 \n Margin:  1875.0 \n\nNumber of auctions left:  16\nBidder 1's Required # of Auctions left to win:  0\nBidder 2's Required # of Auctions left to win:  0\nBidder 3's Required # of Auctions left to win:  16\nBidder 4's Required # of Auctions left to win:  0\nBidder 5's Required # of Auctions left to win:  0\nBidder 3's average price paid:  0\nList of Bids:  [0, 0, 1875.0, 0, 0]\nWinning Bid:  Bidder 3   1875.0 \n Price Paid:  0 \n Margin:  1875.0 \n\nNumber of auctions left:  15\nBidder 1's Required # of Auctions left to win:  0\nBidder 2's Required # of Auctions left to win:  0\nBidder 3's Required # of Auctions left to win:  15\nBidder 4's Required # of Auctions left to win:  0\nBidder 5's Required # of Auctions left to win:  0\nBidder 3's average price paid:  0\nList of Bids:  [0, 0, 1875.0, 0, 0]\nWinning Bid:  Bidder 3   1875.0 \n Price Paid:  0 \n Margin:  1875.0 \n\nNumber of auctions left:  14\nBidder 1's Required # of Auctions left to win:  0\nBidder 2's Required # of Auctions left to win:  0\nBidder 3's Required # of Auctions left to win:  14\nBidder 4's Required # of Auctions left to win:  0\nBidder 5's Required # of Auctions left to win:  0\nBidder 3's average price paid:  0\nList of Bids:  [0, 0, 1875.0, 0, 0]\nWinning Bid:  Bidder 3   1875.0 \n Price Paid:  0 \n Margin:  1875.0 \n\nNumber of auctions left:  13\nBidder 1's Required # of Auctions left to win:  0\nBidder 2's Required # of Auctions left to win:  0\nBidder 3's Required # of Auctions left to win:  13\nBidder 4's Required # of Auctions left to win:  0\nBidder 5's Required # of Auctions left to win:  0\nBidder 3's average price paid:  0\nList of Bids:  [0, 0, 1875.0, 0, 0]\nWinning Bid:  Bidder 3   1875.0 \n Price Paid:  0 \n Margin:  1875.0 \n\nNumber of auctions left:  12\nBidder 1's Required # of Auctions left to win:  0\nBidder 2's Required # of Auctions left to win:  0\nBidder 3's Required # of Auctions left to win:  12\nBidder 4's Required # of Auctions left to win:  0\nBidder 5's Required # of Auctions left to win:  0\nBidder 3's average price paid:  0\nList of Bids:  [0, 0, 1875.0, 0, 0]\nWinning Bid:  Bidder 3   1875.0 \n Price Paid:  0 \n Margin:  1875.0 \n\nNumber of auctions left:  11\nBidder 1's Required # of Auctions left to win:  0\nBidder 2's Required # of Auctions left to win:  0\nBidder 3's Required # of Auctions left to win:  11\nBidder 4's Required # of Auctions left to win:  0\nBidder 5's Required # of Auctions left to win:  0\nBidder 3's average price paid:  0\nList of Bids:  [0, 0, 1875.0, 0, 0]\nWinning Bid:  Bidder 3   1875.0 \n Price Paid:  0 \n Margin:  1875.0 \n\nNumber of auctions left:  10\nBidder 1's Required # of Auctions left to win:  0\nBidder 2's Required # of Auctions left to win:  0\nBidder 3's Required # of Auctions left to win:  10\nBidder 4's Required # of Auctions left to win:  0\nBidder 5's Required # of Auctions left to win:  0\nBidder 3's average price paid:  0\nList of Bids:  [0, 0, 1875.0, 0, 0]\nWinning Bid:  Bidder 3   1875.0 \n Price Paid:  0 \n Margin:  1875.0 \n\nNumber of auctions left:  9\nBidder 1's Required # of Auctions left to win:  0\nBidder 2's Required # of Auctions left to win:  0\nBidder 3's Required # of Auctions left to win:  9\nBidder 4's Required # of Auctions left to win:  0\nBidder 5's Required # of Auctions left to win:  0\nBidder 3's average price paid:  0\nList of Bids:  [0, 0, 1875.0, 0, 0]\nWinning Bid:  Bidder 3   1875.0 \n Price Paid:  0 \n Margin:  1875.0 \n\nNumber of auctions left:  8\nBidder 1's Required # of Auctions left to win:  0\nBidder 2's Required # of Auctions left to win:  0\nBidder 3's Required # of Auctions left to win:  8\nBidder 4's Required # of Auctions left to win:  0\nBidder 5's Required # of Auctions left to win:  0\nBidder 3's average price paid:  0\nList of Bids:  [0, 0, 1875.0, 0, 0]\nWinning Bid:  Bidder 3   1875.0 \n Price Paid:  0 \n Margin:  1875.0 \n\nNumber of auctions left:  7\nBidder 1's Required # of Auctions left to win:  0\nBidder 2's Required # of Auctions left to win:  0\nBidder 3's Required # of Auctions left to win:  7\nBidder 4's Required # of Auctions left to win:  0\nBidder 5's Required # of Auctions left to win:  0\nBidder 3's average price paid:  0\nList of Bids:  [0, 0, 1875.0, 0, 0]\nWinning Bid:  Bidder 3   1875.0 \n Price Paid:  0 \n Margin:  1875.0 \n\nNumber of auctions left:  6\nBidder 1's Required # of Auctions left to win:  0\nBidder 2's Required # of Auctions left to win:  0\nBidder 3's Required # of Auctions left to win:  6\nBidder 4's Required # of Auctions left to win:  0\nBidder 5's Required # of Auctions left to win:  0\nBidder 3's average price paid:  0\nList of Bids:  [0, 0, 1875.0, 0, 0]\nWinning Bid:  Bidder 3   1875.0 \n Price Paid:  0 \n Margin:  1875.0 \n\nNumber of auctions left:  5\nBidder 1's Required # of Auctions left to win:  0\nBidder 2's Required # of Auctions left to win:  0\nBidder 3's Required # of Auctions left to win:  5\nBidder 4's Required # of Auctions left to win:  0\nBidder 5's Required # of Auctions left to win:  0\nBidder 3's average price paid:  0\nList of Bids:  [0, 0, 1875.0, 0, 0]\nWinning Bid:  Bidder 3   1875.0 \n Price Paid:  0 \n Margin:  1875.0 \n\nNumber of auctions left:  4\nBidder 1's Required # of Auctions left to win:  0\nBidder 2's Required # of Auctions left to win:  0\nBidder 3's Required # of Auctions left to win:  4\nBidder 4's Required # of Auctions left to win:  0\nBidder 5's Required # of Auctions left to win:  0\nBidder 3's average price paid:  0\nList of Bids:  [0, 0, 1875.0, 0, 0]\nWinning Bid:  Bidder 3   1875.0 \n Price Paid:  0 \n Margin:  1875.0 \n\nNumber of auctions left:  3\nBidder 1's Required # of Auctions left to win:  0\nBidder 2's Required # of Auctions left to win:  0\nBidder 3's Required # of Auctions left to win:  3\nBidder 4's Required # of Auctions left to win:  0\nBidder 5's Required # of Auctions left to win:  0\nBidder 3's average price paid:  0\nList of Bids:  [0, 0, 1875.0, 0, 0]\nWinning Bid:  Bidder 3   1875.0 \n Price Paid:  0 \n Margin:  1875.0 \n\nNumber of auctions left:  2\nBidder 1's Required # of Auctions left to win:  0\nBidder 2's Required # of Auctions left to win:  0\nBidder 3's Required # of Auctions left to win:  2\nBidder 4's Required # of Auctions left to win:  0\nBidder 5's Required # of Auctions left to win:  0\nBidder 3's average price paid:  0\nList of Bids:  [0, 0, 1875.0, 0, 0]\nWinning Bid:  Bidder 3   1875.0 \n Price Paid:  0 \n Margin:  1875.0 \n\nNumber of auctions left:  1\nBidder 1's Required # of Auctions left to win:  0\nBidder 2's Required # of Auctions left to win:  0\nBidder 3's Required # of Auctions left to win:  1\nBidder 4's Required # of Auctions left to win:  0\nBidder 5's Required # of Auctions left to win:  0\nBidder 3's average price paid:  0\nList of Bids:  [0, 0, 1875.0, 0, 0]\nWinning Bid:  Bidder 3   1875.0 \n Price Paid:  0 \n Margin:  1875.0 \n\n"
    }
   ],
   "source": [
    "# Bidder n config\n",
    "b1_r = 25\n",
    "b1_gv = 62500\n",
    "b2_r = 5\n",
    "b2_gv = 15000\n",
    "b3_r = 40\n",
    "b3_gv = 75000\n",
    "b4_r = 20\n",
    "b4_gv = 100000\n",
    "b5_r = 10 \n",
    "b5_gv = 40000\n",
    "b6_r = 30\n",
    "b6_gv = 65250\n",
    "\n",
    "# Bidder n's true value\n",
    "b1_v = (b1_gv/b1_r)\n",
    "b2_v = (b2_gv/b2_r)\n",
    "b3_v = (b3_gv/b3_r)\n",
    "b4_v = (b4_gv/b4_r)\n",
    "b5_v = (b5_gv/b5_r)\n",
    "\n",
    "\n",
    "\n",
    "# Null lists\n",
    "b1_bv_l = []\n",
    "b2_bv_l = []\n",
    "b3_bv_l = []\n",
    "b4_bv_l = []\n",
    "b5_bv_l = []\n",
    "bid_1_l = []\n",
    "bid_2_l = []\n",
    "bid_3_l = []\n",
    "bid_4_l = []\n",
    "bid_5_l = []\n",
    "\n",
    "# Looping Auctions\n",
    "for x in range(100,0,-1):\n",
    "    # Auction number\n",
    "    n_auctions = (x)\n",
    "    print('Number of auctions left: ',n_auctions)\n",
    "    # Number of required auctions left to win\n",
    "    # for bidder n\n",
    "    print('Bidder 1\\'s Required # of Auctions left to win: ',b1_r)\n",
    "    print('Bidder 2\\'s Required # of Auctions left to win: ',b2_r)\n",
    "    print('Bidder 3\\'s Required # of Auctions left to win: ',b3_r)\n",
    "    print('Bidder 4\\'s Required # of Auctions left to win: ',b4_r)\n",
    "    print('Bidder 5\\'s Required # of Auctions left to win: ',b5_r)\n",
    "    # Bidder Strategies\n",
    "    if b1_r > 0:\n",
    "        if n_auctions >= 75:\n",
    "            b1_bv = b1_v * 0.8\n",
    "        elif n_auctions >= 50:\n",
    "            b1_bv = b1_v * 0.85\n",
    "        elif n_auctions > 25:\n",
    "            b1_bv = b1_v * 0.9\n",
    "        elif n_auctions <= 25:\n",
    "            b1_bv = b1_v\n",
    "    else:\n",
    "        b1_bv = 0\n",
    "    if b2_r > 0:  \n",
    "        if n_auctions > b2_r:\n",
    "            b2_bv = b2_v * 0.9\n",
    "        elif n_auctions <= b2_r:\n",
    "            b2_bv = b2_v\n",
    "    else:\n",
    "        b2_bv = 0\n",
    "    if b3_r > 0:\n",
    "        if n_auctions >= 80:\n",
    "            b3_bv = b3_v * 0.6\n",
    "        elif n_auctions >= 60:\n",
    "            b3_bv = b3_v * 0.7\n",
    "        elif n_auctions <= b3_r:\n",
    "            b3_bv = b3_v\n",
    "    else:\n",
    "        b3_bv = 0\n",
    "    if b4_r > 0:    \n",
    "        if n_auctions > b4_r:\n",
    "            b4_bv = b4_v * 0.7\n",
    "        elif n_auctions <= b4_r:\n",
    "            b4_bv = b4_v\n",
    "    else:\n",
    "        b4_bv = 0\n",
    "    if b5_r > 0:    \n",
    "        if n_auctions > b5_r:\n",
    "            b5_bv = b5_v * 0.6\n",
    "        elif n_auctions <= b5_r:\n",
    "            b5_bv = b5_v\n",
    "    else:\n",
    "        b5_bv = 0 \n",
    "    # List of Bids\n",
    "    bid_s = [b1_bv,b2_bv,b3_bv,b4_bv,b5_bv]\n",
    "    # Lists collecting price paid by bidder n\n",
    "    # to derive an avg price paid\n",
    "    if max(bid_s) == b1_bv:\n",
    "        b1_r = b1_r - 1\n",
    "        for bid in bid_s:\n",
    "            if bid < b1_bv:\n",
    "                bid_1_l.append(bid)\n",
    "        b1_bv_l.append(b1_bv)\n",
    "        PD = max(bid_1_l)\n",
    "        print('Bidder 1\\'s average price paid: ',max(bid_1_l))\n",
    "    if max(bid_s) == b2_bv:\n",
    "        b2_r = b2_r - 1\n",
    "        for bid in bid_s:\n",
    "            if bid < b2_bv:\n",
    "                bid_2_l.append(bid)\n",
    "        b2_bv_l.append(b2_bv)\n",
    "        print('Bidder 2\\'s average price paid: ',max(bid_2_l))\n",
    "    if max(bid_s) == b3_bv:\n",
    "        b3_r = b3_r - 1\n",
    "        for bid in bid_s:\n",
    "            if bid < b3_bv:\n",
    "                bid_3_l.append(bid)\n",
    "        b3_bv_l.append(b3_bv)\n",
    "        print('Bidder 3\\'s average price paid: ',max(bid_3_l))\n",
    "    if max(bid_s) == b4_bv:\n",
    "        b4_r = b4_r - 1\n",
    "        for bid in bid_s:\n",
    "            if bid < b4_bv:\n",
    "                bid_4_l.append(bid)\n",
    "        b4_bv_l.append(b4_bv)\n",
    "        print('Bidder 4\\'s average price paid: ',max(bid_4_l))\n",
    "    if max(bid_s) == b5_bv:\n",
    "        b5_r = b5_r - 1\n",
    "        for bid in bid_s:\n",
    "            if bid < b5_bv:\n",
    "                bid_5_l.append(bid)\n",
    "        b5_bv_l.append(b5_bv)\n",
    "        print('Bidder 5\\'s average price paid: ',max(bid_5_l))\n",
    "    # Running sim function\n",
    "    game(b1_bv,b2_bv,b3_bv,b4_bv,b5_bv)"
   ]
  },
  {
   "cell_type": "markdown",
   "metadata": {},
   "source": [
    "### Let $\\beta$ represent the second highest bid, from ${B}_i$'s perspective there is only 3 possible outcomes\n",
    " 1. $\\beta > {B}_i,{S}_i$ \n",
    " 2. ${B}_i > \\beta > {S}_i$\n",
    " 3. ${B}_i,{S}_i > \\beta$\n",
    " \n",
    "- In event 1 or 3 $i$ would do equally well bidding ${S}_i$ rather than ${B}_i > {S}_i.$\n",
    "\n",
    "- In event 1 they wont win regardless. \n",
    "\n",
    "- In event 2 they will win, and will pay $\\beta$ regardless.\n",
    "\n",
    "- In event 3 they will win, but pay more than their value if they bid $\\beta$, which wont happen if they bid ${S}_i.$\n",
    "\n",
    "#### Thus $i$ does better to bid ${S}_i.$ than ${B}_i > {S}_i.$  Similarly $i$ is also better to bid ${S}_i$ than to bid ${B}_i < {S}_i.$"
   ]
  },
  {
   "cell_type": "markdown",
   "metadata": {},
   "source": [
    "### Symmetric increasing equilibrium bid strategy ${B}(s)$\n",
    "- Let ${S}^i$ represent the highest signal of bidders $j$$\\neq$$i$\n",
    "- Bidder $i$ will win if they bid ${B}_i$ $\\geq$ $B(S^i)$ where they pay $B(S^i)$\n",
    "\n",
    "Bidder $i$'s problem:\n",
    "- $\\frac{max}{B_i}$ $\\int_\\dot{s}^\\hat{s}$"
   ]
  },
  {
   "cell_type": "code",
   "execution_count": 6,
   "metadata": {},
   "outputs": [
    {
     "name": "stdout",
     "output_type": "stream",
     "text": [
      "[1312.5, 1312.5, 1312.5, 1312.5, 1312.5, 1312.5, 1312.5, 1312.5, 1312.5, 1312.5, 1312.5, 1312.5, 1312.5, 1312.5, 1312.5, 1312.5, 1312.5, 1312.5, 1312.5, 1312.5, 1312.5, 1312.5, 1312.5, 1312.5, 1312.5]\n",
      "[2000.0, 1125.0, 2400.0, 2000.0, 1312.5, 2400.0, 2000.0, 1312.5, 2400.0, 2000.0, 1312.5, 2400.0, 2000.0, 1312.5, 2400.0]\n",
      "[0, 0, 0, 0, 0, 0, 0, 0, 0, 0, 0, 0, 0, 0, 0, 0, 0, 0, 0, 0, 0, 0, 0, 0, 0, 0, 0, 0, 0, 0, 0, 0, 0, 0, 0, 0, 0, 0, 0, 0, 0, 0, 0, 0, 0, 0, 0, 0, 0, 0, 0, 0, 0, 0, 0, 0, 0, 0, 0, 0, 0, 0, 0, 0, 0, 0, 0, 0, 0, 0, 0, 0, 0, 0, 0, 0, 0, 0, 0, 0, 0, 0, 0, 0, 0, 0, 0, 0, 0, 0, 0, 0, 0, 0, 0, 0, 0, 0, 0, 0, 0, 0, 0, 0, 0, 0, 0, 0, 0, 0, 0, 0, 0, 0, 0, 0, 0, 0, 0, 0, 0, 0, 0, 0, 0, 0, 0, 0, 0, 0, 0, 0, 0, 0, 0, 0, 0, 0, 0, 0, 0, 0, 0, 0, 0, 0, 0, 0, 0, 0, 0, 0, 0, 0, 0, 0, 0, 0, 0, 0]\n",
      "[2000.0, 2700.0, 1125.0, 2400.0, 2000.0, 2700.0, 1125.0, 2400.0, 2000.0, 2700.0, 1125.0, 2400.0, 2000.0, 2700.0, 1125.0, 2400.0, 2000.0, 2700.0, 1125.0, 2400.0, 2000.0, 2700.0, 1125.0, 2400.0, 2000.0, 2700.0, 1125.0, 2400.0, 2000.0, 2700.0, 1125.0, 2400.0, 2000.0, 2700.0, 1125.0, 2400.0, 2000.0, 2700.0, 1125.0, 2400.0, 2000.0, 2700.0, 1125.0, 2400.0, 2000.0, 2700.0, 1125.0, 2400.0, 2000.0, 2700.0, 1125.0, 2400.0, 2000.0, 2700.0, 1125.0, 2400.0, 2000.0, 2700.0, 1125.0, 2400.0, 2000.0, 2700.0, 1125.0, 2400.0, 2000.0, 2700.0, 1125.0, 2400.0, 2000.0, 2700.0, 1125.0, 2400.0, 2000.0, 2700.0, 1125.0, 2400.0, 2000.0, 2700.0, 1125.0, 2400.0]\n",
      "[2000.0, 0, 1312.5, 0, 2125.0, 0, 1312.5, 0, 2125.0, 0, 1312.5, 0, 2125.0, 0, 1312.5, 0, 2125.0, 0, 1312.5, 0, 2125.0, 0, 1312.5, 0, 2125.0, 0, 1312.5, 0, 2125.0, 0, 1312.5, 0, 2125.0, 0, 1312.5, 0, 2125.0, 0, 1312.5, 0]\n"
     ]
    }
   ],
   "source": [
    "bid_1_l = [i for i in bid_1_l if i != 0]\n",
    "bid_2_l = [i for i in bid_2_l if i != 0]\n",
    "bid_4_l = [i for i in bid_4_l if i != 0]\n",
    "bid_1_l = [i for i in bid_1_l if i != 0]\n",
    "print(bid_1_l)\n",
    "print(bid_2_l)\n",
    "print(bid_3_l)\n",
    "print(bid_4_l)\n",
    "print(bid_5_l)"
   ]
  },
  {
   "cell_type": "code",
   "execution_count": 7,
   "metadata": {},
   "outputs": [
    {
     "name": "stdout",
     "output_type": "stream",
     "text": [
      "1312.5\n",
      "1891.6666666666667\n",
      "0.0\n",
      "2056.25\n",
      "856.25\n"
     ]
    }
   ],
   "source": [
    "def avg(x):\n",
    "    sum_n = 0\n",
    "    for xth in x:\n",
    "        sum_n = sum_n + xth\n",
    "    avg = sum_n / len(x)\n",
    "    return avg\n",
    "print(avg(bid_1_l))\n",
    "print(avg(bid_2_l))\n",
    "print(avg(bid_3_l))\n",
    "print(avg(bid_4_l))\n",
    "print(avg(bid_5_l))"
   ]
  },
  {
   "cell_type": "code",
   "execution_count": 8,
   "metadata": {},
   "outputs": [
    {
     "data": {
      "text/plain": [
       "Text(0.5, 1.0, 'Average Price Paid (per auction)')"
      ]
     },
     "execution_count": 8,
     "metadata": {},
     "output_type": "execute_result"
    },
    {
     "data": {
      "image/png": "[encoded data removed]",
      "text/plain": [
       "<Figure size 432x288 with 1 Axes>"
      ]
     },
     "metadata": {
      "needs_background": "light"
     },
     "output_type": "display_data"
    }
   ],
   "source": [
    "import matplotlib.pyplot as plt\n",
    "x = ['Bidder 1', 'Bidder 2', 'Bidder 3', 'Bidder 4', 'bidder 5']\n",
    "y = [avg(bid_1_l),avg(bid_2_l),avg(bid_3_l),avg(bid_4_l),avg(bid_5_l),]\n",
    "plt.bar(x,y)\n",
    "plt.title('Average Price Paid (per auction)')"
   ]
  },
  {
   "cell_type": "code",
   "execution_count": null,
   "metadata": {},
   "outputs": [],
   "source": []
  }
 ],
 "metadata": {
  "kernelspec": {
   "display_name": "Python 3",
   "language": "python",
   "name": "python3"
  },
  "language_info": {
   "codemirror_mode": {
    "name": "ipython",
    "version": 3
   },
   "file_extension": ".py",
   "mimetype": "text/x-python",
   "name": "python",
   "nbconvert_exporter": "python",
   "pygments_lexer": "ipython3",
   "version": "3.8.2-final"
  }
 },
 "nbformat": 4,
 "nbformat_minor": 4
}