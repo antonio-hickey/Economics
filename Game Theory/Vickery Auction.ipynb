{
 "cells": [
  {
   "cell_type": "code",
   "execution_count": 2,
   "metadata": {
    "jupyter": {
     "source_hidden": true
    }
   },
   "outputs": [],
   "source": [
    "import numpy as np\n",
    "from numpy import random"
   ]
  },
  {
   "cell_type": "markdown",
   "metadata": {},
   "source": [
    "# Vickery Auction Simulation\n",
    "\n",
    "An auction environment where ${n}$ amount of bidders   [${B}_i$, ${B}_j$, ... ,${B}_n$] make a private bid, and the largest bidder wins, but they pay the 2nd largest bid. Let ${B}_i$ represent $i$'s bid and ${S}_i$ represent $i$'s signal."
   ]
  },
  {
   "cell_type": "code",
   "execution_count": 27,
   "metadata": {},
   "outputs": [
    {
     "name": "stdout",
     "output_type": "stream",
     "text": [
      "List of Bids:  [15, 20, 13, 11, 2]\n",
      "Winning Bid:  20\n",
      "Price Due: $ 15\n"
     ]
    }
   ],
   "source": [
    "#----------------------------------\n",
    "# Random n bids of (1,50)\n",
    "b_i = random.randint(50)\n",
    "b_j = random.randint(50)\n",
    "b_f = random.randint(50)\n",
    "b_h = random.randint(50)\n",
    "b_n = random.randint(50)\n",
    "#-----------------------------------\n",
    "# List of their bids\n",
    "bids = [b_i,b_j,b_f,b_h,b_n]\n",
    "#-----------------------------------\n",
    "# Winner (Largest Bid)\n",
    "winner = max(bids)\n",
    "#----------------------------------\n",
    "# Secondary List (Losing Bids)\n",
    "secondary_list = [] #Null\n",
    "#----------------------------------\n",
    "# Loop through each bid\n",
    "for i in bids:\n",
    "#----------------------------------\n",
    "    # Isolate winning bid from other bids\n",
    "    if i<winner:\n",
    "    #----------------------------------\n",
    "        # Append other bids to null list\n",
    "        secondary_list.append(i)\n",
    "        #----------------------------------\n",
    "        # Calculating Largest bid in other bids\n",
    "        priceDue = max(secondary_list)\n",
    "        #----------------------------------\n",
    "# Printing\n",
    "print('List of Bids: ',bids)\n",
    "print('Winning Bid: ',winner)\n",
    "print('Price Due: $',priceDue)"
   ]
  },
  {
   "cell_type": "markdown",
   "metadata": {},
   "source": [
    "### Let $\\beta$ represent the second highest bid, from ${B}_i$'s perspective there is only 3 possible outcomes\n",
    " 1. $\\beta > {B}_i,{S}_i$ \n",
    " 2. ${B}_i > \\beta > {S}_i$\n",
    " 3. ${B}_i,{S}_i > \\beta$\n",
    " \n",
    "- In event 1 or 3 $i$ would do equally well bidding ${S}_i$ rather than ${B}_i > {S}_i.$\n",
    "\n",
    "- In event 1 they wont win regardless. \n",
    "\n",
    "- In event 2 they will win, and will pay $\\beta$ regardless.\n",
    "\n",
    "- In event 3 they will win, but pay more than their value if they bid $\\beta$, which wont happen if they bid ${S}_i.$\n",
    "\n",
    "#### Thus $i$ does better to bid ${S}_i.$ than ${B}_i > {S}_i.$  Similarly $i$ is also better to bid ${S}_i$ than to bid ${B}_i < {S}_i.$"
   ]
  },
  {
   "cell_type": "code",
   "execution_count": null,
   "metadata": {},
   "outputs": [],
   "source": []
  }
 ],
 "metadata": {
  "kernelspec": {
   "display_name": "Python 3",
   "language": "python",
   "name": "python3"
  },
  "language_info": {
   "codemirror_mode": {
    "name": "ipython",
    "version": 3
   },
   "file_extension": ".py",
   "mimetype": "text/x-python",
   "name": "python",
   "nbconvert_exporter": "python",
   "pygments_lexer": "ipython3",
   "version": "3.7.6"
  }
 },
 "nbformat": 4,
 "nbformat_minor": 4
}
