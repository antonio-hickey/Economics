{
 "cells": [
  {
   "cell_type": "markdown",
   "metadata": {},
   "source": [
    "# Game Theory: Nash's Theorem\n",
    "### Definition of Support\n",
    "- For a given startegy $\\sigma$, the support ($\\sigma: \\mathcal{S}(\\sigma)$) is the set of strategies for which $\\sigma_i>0$:\n",
    " - $i\\in\\mathcal{S}(\\sigma)\\Leftrightarrow \\sigma_i > 0$\n",
    "\n",
    "For example:\n",
    "- If $\\sigma=(1/3, 1/2, 0, 0, 1/6): \\mathcal{S}(\\sigma)=\\{1, 2, 5\\}$\n",
    "- If $\\sigma=(0, 0, 1, 0): \\mathcal{S}(\\sigma)=\\{3\\}$"
   ]
  },
  {
   "cell_type": "code",
   "execution_count": 2,
   "metadata": {},
   "outputs": [
    {
     "data": {
      "text/plain": [
       "(array([0, 1, 4]),)"
      ]
     },
     "execution_count": 2,
     "metadata": {},
     "output_type": "execute_result"
    }
   ],
   "source": [
    "import numpy as np\n",
    "sigma = np.array([1/3, 1/2, 0, 0, 1/6])\n",
    "np.where(sigma > 0)"
   ]
  },
  {
   "cell_type": "code",
   "execution_count": 3,
   "metadata": {},
   "outputs": [
    {
     "data": {
      "text/plain": [
       "(array([2]),)"
      ]
     },
     "execution_count": 3,
     "metadata": {},
     "output_type": "execute_result"
    }
   ],
   "source": [
    "sigma = np.array([0, 0, 1, 0])\n",
    "np.where(sigma > 0)"
   ]
  },
  {
   "cell_type": "markdown",
   "metadata": {},
   "source": [
    "### Definition of non-degenerate games\n",
    "- A two player game where no mixed strategy of support size ($k$) has more than ($k$) pure best responses.\n",
    "\n",
    "For example:\n",
    "- $A = \n",
    "\\begin{pmatrix}\n",
    "    1 & 1 & 0\\\\\n",
    "    2 & 3 & 0\n",
    "\\end{pmatrix}\\qquad\n",
    "B = \n",
    "\\begin{pmatrix}\n",
    "    1/2 & -1 & -1/2\\\\\n",
    "    -1 & -1 & 2\n",
    "\\end{pmatrix}$\n",
    "\n",
    "- Consider $\\sigma_c=(0, 0, 1)$, we have $|\\mathcal{S}(\\sigma_c)|=1$ and:\n",
    " - $A\\sigma_c^T = \n",
    "\\begin{pmatrix}\n",
    "    0\\\\\n",
    "    0\n",
    "\\end{pmatrix}$\n",
    "\n",
    "The number of pure responses to $\\sigma_c$ is two, So the game is considered as a degenerate game."
   ]
  },
  {
   "cell_type": "code",
   "execution_count": 8,
   "metadata": {},
   "outputs": [
    {
     "data": {
      "text/plain": [
       "array([0, 0])"
      ]
     },
     "execution_count": 8,
     "metadata": {},
     "output_type": "execute_result"
    }
   ],
   "source": [
    "A = np.array([[1, 1, 0], [2, 2, 0]])\n",
    "sigma_c = np.array([0, 0, 1])\n",
    "(np.dot(A, sigma_c))"
   ]
  },
  {
   "cell_type": "markdown",
   "metadata": {},
   "source": [
    "### Support enumeration algorithm\n",
    "For a non-degenerate two player game $(A,B)\\in{\\mathbb{R}^{m\\times n}}^2$:\n",
    "1. For all $1\\leq k\\leq \\min(m, n);$\n",
    "\n",
    "2. For all pairs of support $(I, J)$ with $|I|=|J|=k$\n",
    "\n",
    "3. Solve the equations:\n",
    "    - $\\sum_{i\\in I}{\\sigma_{r}}_iB_{ij}=v\\text{ for all }j\\in J$\n",
    "    \n",
    "    - $\\sum_{j\\in J}A_{ij}{\\sigma_{c}}_j=u\\text{ for all }i\\in I$\n",
    "    \n",
    "4. Solve the equations:\n",
    "    - $\\sum_{i=1}^{m}{\\sigma_{r}}_i=1$ and ${\\sigma_{r}}_i\\geq 0$ for all $i$\n",
    "    \n",
    "    - $\\sum_{j=1}^{n}{\\sigma_{c}}_i=1$ and ${\\sigma_{c}}_j\\geq 0$ for all $j$\n",
    "    \n",
    "5. Check the best response condition\n",
    "\n",
    "(Repeat steps 3,4,5 for all potential support pairs)"
   ]
  },
  {
   "cell_type": "markdown",
   "metadata": {},
   "source": [
    "### 2 by 2 example of support enumeration\n",
    "#### Using the two player game matching pennies game.\n",
    "$A=\n",
    "\\begin{pmatrix}\n",
    "1 & -1\\\\\n",
    "-1 & 1\n",
    "\\end{pmatrix}\\qquad\n",
    "B=\n",
    "\\begin{pmatrix}\n",
    "-1 & 1\\\\\n",
    "1 & -1\n",
    "\\end{pmatrix}$\n",
    "\n",
    "1. Consider $k=1$: in other words the pairs of pure best responses is equal to 1. We can identify these by looking at the best responses (underlined).\n",
    "    - $A=\n",
    "\\begin{pmatrix}\n",
    "\\underline{1} & -1\\\\\n",
    "-1 & \\underline{1}\n",
    "\\end{pmatrix}\\qquad\n",
    "B=\n",
    "\\begin{pmatrix}\n",
    "-1 & \\underline{1}\\\\\n",
    "\\underline{1} & -1\n",
    "\\end{pmatrix}$\n",
    "\n",
    "So there are no pairs:\n",
    "\n",
    "1. Thus we start again with $k=2$\n",
    "\n",
    "2. There is only one pair of best responses to be considered: $I=J=\\{1, 2\\}$\n",
    "\n",
    "3. The equations we must solve:\n",
    "\n",
    "    - $-{\\sigma_{r}}_1+{\\sigma_{r}}_2=v$\n",
    "    \n",
    "    - ${\\sigma_{r}}_1-{\\sigma_{r}}_2=v$\n",
    "    \n",
    "   And:\n",
    "   \n",
    "    - $-{\\sigma_{c}}_1+{\\sigma_{c}}_2=u$\n",
    "    \n",
    "    - ${\\sigma_{c}}_1-{\\sigma_{c}}_2=u$\n",
    "    \n",
    "   We dont know the values of $(u, v)$ so we solve:\n",
    "   \n",
    "    - $-{\\sigma_{r}}_1+{\\sigma_{r}}_2={\\sigma_{r}}_1-{\\sigma_{r}}_2$\n",
    "    \n",
    "    - ${\\sigma_{c}}_1-{\\sigma_{c}}_2=-{\\sigma_{c}}_1+{\\sigma_{c}}_2$\n",
    "   \n",
    "   Which returns:\n",
    "   \n",
    "    - ${\\sigma_{r}}_1={\\sigma_{r}}_2$\n",
    "    \n",
    "    - ${\\sigma_{c}}_1={\\sigma_{c}}_2$\n",
    "   \n",
    "4. Then:\n",
    "\n",
    " - $\\sigma_{r}=(1/2, 1/2)$\n",
    " \n",
    " - $\\sigma_{c}=(1/2, 1/2)$\n",
    " \n",
    "5. Finally we check the best response condition:\n",
    " - ${\\sigma_r^*}_i > 0 \\Rightarrow (a\\sigma_c^T)_i = \\max_{k}(a\\sigma_c^T)_k\\text{ for all }1\\leq i\\leq m$\n",
    " \n",
    "Note, for two player games with $m=n=2$, (step 5) is not of importance so to find the best mixed strategy Nash Equilibrium for games of this size is to reduce to finding a solution to two linear equations (step 3). "
   ]
  },
  {
   "cell_type": "markdown",
   "metadata": {},
   "source": [
    "### Now lets consider a larger game:\n",
    "- $A=\n",
    "   \\begin{pmatrix}\n",
    "   1 & 1 & -1\\\\\n",
    "   2 & -1 & 0\n",
    "   \\end{pmatrix}\\qquad\n",
    "   B=\n",
    "   \\begin{pmatrix}\n",
    "   1/2 & -1 & -1/2\\\\\n",
    "   -1 & 3 & 2\n",
    "   \\end{pmatrix}$\n",
    "\n",
    "1. Note there are no pairs of pure best response.\n",
    "\n",
    "2. All possible support pairs are:\n",
    "    - $I=(1, 2)$ and $J=(1, 2)$\n",
    "    - $I=(1, 2)$ and $J=(1, 3)$\n",
    "    - $I=(1, 2)$ and $J=(2, 3)$\n",
    "\n",
    "3. Solve the equations:\n",
    "    - $I=(1, 2)$ and $J=(1, 2)$:\n",
    "        - $1/2{\\sigma_{r}}_1-{\\sigma_{r}}_2=-{\\sigma_{r}}_1+3{\\sigma_{r}}_2$\n",
    "        - ${\\sigma_{r}}_1=8/3{\\sigma_{r}}_2$\n",
    "        - ${\\sigma_{c}}_1+{\\sigma_{c}}_2=2{\\sigma_{c}}_1-{\\sigma_{c}}_2$\n",
    "        - ${\\sigma_{c}}_1=2{\\sigma_{c}}_2$\n",
    "    - $I=(1, 2)$ and $J=(1, 3)$:\n",
    "        - $1/2{\\sigma_{r}}_1-{\\sigma_{r}}_2=-1/2{\\sigma_{r}}_1+2{\\sigma_{r}}_2$\n",
    "        - ${\\sigma_{r}}_1=3{\\sigma_{r}}_2$\n",
    "        - ${\\sigma_{c}}_1-{\\sigma_{c}}_3=2{\\sigma_{c}}_1+0{\\sigma_{c}}_3$\n",
    "        - ${\\sigma_{c}}_1=-{\\sigma_{c}}_3$\n",
    "    - $I=(1, 2)$ and $J=(2, 3)$:\n",
    "        - $-{\\sigma_{r}}_1+3{\\sigma_{r}}_2=-1/2{\\sigma_{r}}_1+2{\\sigma_{r}}_2$\n",
    "        - ${\\sigma_{r}}_1=2{\\sigma_{r}}_2$\n",
    "        - ${\\sigma_{c}}_2-{\\sigma_{c}}_3=-{\\sigma_{c}}_2+0{\\sigma_{c}}_3$\n",
    "        - $2{\\sigma_{c}}_2={\\sigma_{c}}_3$\n",
    "\n",
    "4. We check which supports give valid mixed strategies:\n",
    "    - $I=(1, 2)$ and $J=(1, 2)$:\n",
    "    \n",
    "        - $\\sigma_r=(8/11, 3/11)$\n",
    "        \n",
    "        - $\\sigma_c=(2/3, 1/3, 0)$\n",
    "        \n",
    "    - $I=(1, 2)$ and $J=(1, 3)$:\n",
    "    \n",
    "        - $\\sigma_r=(3/4, 1/4)$\n",
    "        \n",
    "        - $\\sigma_c=(k, 0, -k)$     \n",
    "        \n",
    "    - $I=(1, 2)$ and $J=(2, 3)$:\n",
    "    \n",
    "       - $\\sigma_r=(2/3, 1/3)$\n",
    "        \n",
    "       - $\\sigma_c=(0, 1/3, 2/3)$ \n",
    "       \n",
    "5. Verify the best response condition:\n",
    "\n",
    "    - $I=(1, 2)$ and $J=(1, 2)$:\n",
    "    \n",
    "        - $\\sigma_c=(2/3, 1/3, 0)$\n",
    "        \n",
    "        - $A\\sigma_c^T=\n",
    "\\begin{pmatrix}\n",
    "1\\\\\n",
    "1\n",
    "\\end{pmatrix}$\n",
    "\n",
    "        - Thus $\\sigma_r$ is a best response to $\\sigma_c$\n",
    "        \n",
    "            - $\\sigma_r=(8/11, 3/11)$\n",
    "        \n",
    "            - $\\sigma_r B=(1/11, 1/11, 2/11)$\n",
    "            \n",
    "Here $\\sigma_c$ is not a best response to $\\sigma_r$, becuase there is a better response outside the support of $\\sigma_c$    \n",
    "- $I=(1, 2)$ and $J=(2, 3):$\n",
    "\n",
    "  - $\\sigma_c=(0, 1/3, 2/3)$\n",
    "  \n",
    "  - $A\\sigma_c^T=\\begin{pmatrix}-1/3\\\\-1/3\\end{pmatrix}$\n",
    "\n",
    "   - $\\sigma_r$ is a best response to $\\sigma_c$\n",
    "    \n",
    "    \n",
    "\n",
    "- $\\sigma_r=(2/3, 1/3)$\n",
    "\n",
    "- $\\sigma_r B=(0, 1/3, 1/3)$\n",
    "    \n",
    "    - $\\sigma_c$ is a best response to $\\sigma_r$.\n",
    "    \n",
    "Thus the unique Nash equilibrium for the game is:\n",
    "- $((2/3, 1/3), (0, 1/3, 2/3))$\n",
    "\n",
    "\n",
    "### Now lets confirm our findigs with nashpy python module"
   ]
  },
  {
   "cell_type": "code",
   "execution_count": 11,
   "metadata": {},
   "outputs": [
    {
     "data": {
      "text/plain": [
       "[(array([0.5, 0.5]), array([0.5, 0.5]))]"
      ]
     },
     "execution_count": 11,
     "metadata": {},
     "output_type": "execute_result"
    }
   ],
   "source": [
    "# Short game with minimal options\n",
    "import nashpy as nash\n",
    "A = np.array([[1,-1], [-1, 1]])\n",
    "game = nash.Game(A)\n",
    "list(game.support_enumeration())"
   ]
  },
  {
   "cell_type": "code",
   "execution_count": 12,
   "metadata": {},
   "outputs": [
    {
     "data": {
      "text/plain": [
       "[(array([0.66666667, 0.33333333]),\n",
       "  array([-0.        ,  0.33333333,  0.66666667]))]"
      ]
     },
     "execution_count": 12,
     "metadata": {},
     "output_type": "execute_result"
    }
   ],
   "source": [
    "# Long game with more options\n",
    "A = np.array([[1, 1, -1], [2, -1, 0]]) \n",
    "B = np.array([[1/2, -1, -1/2], [-1, 3, 2]])\n",
    "game = nash.Game(A, B)\n",
    "list(game.support_enumeration())"
   ]
  },
  {
   "cell_type": "code",
   "execution_count": 13,
   "metadata": {},
   "outputs": [
    {
     "name": "stderr",
     "output_type": "stream",
     "text": [
      "/home/sratus/anaconda3/lib/python3.7/site-packages/nashpy/algorithms/support_enumeration.py:196: RuntimeWarning: \n",
      "An even number of (0) equilibria was returned. This\n",
      "indicates that the game is degenerate. Consider using another algorithm\n",
      "to investigate.\n",
      "                  \n",
      "  warnings.warn(warning, RuntimeWarning)\n"
     ]
    },
    {
     "data": {
      "text/plain": [
       "[]"
      ]
     },
     "execution_count": 13,
     "metadata": {},
     "output_type": "execute_result"
    }
   ],
   "source": [
    "# Degenerate game\n",
    "A = np.array([[1, 1, 0], [2, -1, 0]])\n",
    "B = np.array([[1/2, -1, -1/2], [-1, 3, 2]])\n",
    "game = nash.Game(A, B)\n",
    "list(game.support_enumeration())"
   ]
  }
 ],
 "metadata": {
  "kernelspec": {
   "display_name": "Python 3",
   "language": "python",
   "name": "python3"
  },
  "language_info": {
   "codemirror_mode": {
    "name": "ipython",
    "version": 3
   },
   "file_extension": ".py",
   "mimetype": "text/x-python",
   "name": "python",
   "nbconvert_exporter": "python",
   "pygments_lexer": "ipython3",
   "version": "3.7.6"
  }
 },
 "nbformat": 4,
 "nbformat_minor": 4
}
