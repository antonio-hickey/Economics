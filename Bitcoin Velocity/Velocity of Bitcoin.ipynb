{
 "cells": [
  {
   "cell_type": "code",
   "execution_count": 62,
   "metadata": {},
   "outputs": [],
   "source": [
    "#-------------------------------\n",
    "# Import Modules\n",
    "import pandas as pd\n",
    "import matplotlib.pyplot as plt\n",
    "from matplotlib import dates as mpl_dates\n",
    "import matplotlib.dates as mdates\n",
    "#-------------------------------"
   ]
  },
  {
   "cell_type": "markdown",
   "metadata": {},
   "source": [
    "# Bitcoin Velocity\n",
    "The velocity of money represents the rate of which money is exchanged, it's an important measure especially in bitcoin becuase to do a transaction on the bitcoin blockchain it has real world cost (fees) so daily transactions represent the health of the bitcoin economy. \n",
    "\n",
    "- A weak bitcoin economy would be low velocity meaning user's are not exchanging or using bitcoin\n",
    "- A strong bitcoin economy user's will be exchanging, participating in daily transactions.\n",
    "\n",
    "### Economists use Velocity to measure money in the U.S Economy \n",
    "Formula:\n",
    "        \n",
    "$V_T = \\frac{P_T T_T}{M_T}$\n",
    "\n",
    "Where:\n",
    "\n",
    "- $V_T =$ Velocity of money for all transactions at a given time $_T$\n",
    "- $P_T =$ Price level at time $_T$\n",
    "- $T_T =$ aggregate real value of transactions at time $_T$\n",
    "- $M_T =$ total nominal amount of money in circulation at time $_T$\n",
    "\n",
    "### How we will try to measure Velocity in the Bitcoin Economy\n",
    "Formula:\n",
    "\n",
    "$V_T = \\frac{P_T TV_T}{M_T}$\n",
    "\n",
    "Where:\n",
    "- $V_T =$ Velocity of bitcoin for all non-exchange (off chain) transactions at a given time $_T$\n",
    "- $P_T =$ Price level of bitcoin at time $_T$\n",
    "- $TV_T =$ Value of transactions at time $_T$\n",
    "- $M_T =$ Total value of bitcoin in circulation at time $_T$"
   ]
  },
  {
   "cell_type": "code",
   "execution_count": 63,
   "metadata": {},
   "outputs": [
    {
     "name": "stdout",
     "output_type": "stream",
     "text": [
      "         Date       Volume  Market Cap\n",
      "0  2010-09-27  1638.513967    247413.0\n",
      "1  2010-09-30  1818.841099    248763.0\n",
      "2  2010-10-03  2367.264970    250086.0\n",
      "3  2010-10-06  2618.045450    251415.0\n",
      "4  2010-10-09  3137.729663    421230.0\n"
     ]
    }
   ],
   "source": [
    "#-------------------------------\n",
    "# Import Data\n",
    "#-------------------------------\n",
    "mkt_cap = pd.read_csv(\"./Data/market-cap.csv\")\n",
    "mkt_cap = mkt_cap.set_index('Date')\n",
    "tx_vol = pd.read_csv(\"./Data/transaction-volume.csv\")\n",
    "tx_vol = tx_vol.set_index('Date')\n",
    "#-------------------------------\n",
    "# Data prep\n",
    "#-------------------------------\n",
    "# Matching Dates & Values\n",
    "matched_dates = []\n",
    "matched_mkt_cap = []\n",
    "matched_tx_vol = []\n",
    "for date in mkt_cap.index:\n",
    "    if date in tx_vol.index:\n",
    "        matched_dates.append(date)\n",
    "        matched_tx_vol.append(tx_vol['Volume'].loc[date])\n",
    "        matched_mkt_cap.append(mkt_cap['market-cap'].loc[date])\n",
    "# New dataframe with matched dates & values\n",
    "cleaned_list = pd.DataFrame({\n",
    "    'Date': matched_dates,\n",
    "    'Volume': matched_tx_vol,\n",
    "    'Market Cap': matched_mkt_cap\n",
    "})\n",
    "# Print sample\n",
    "print(cleaned_list.head())\n",
    "#-------------------------------\n",
    "# Deriving Velocity\n",
    "#-------------------------------\n",
    "velocity = []\n",
    "for val in range(len(cleaned_list['Date'])):\n",
    "    velocity.append((cleaned_list['Volume'].loc[val] / cleaned_list['Market Cap'].loc[val])*100)"
   ]
  },
  {
   "cell_type": "code",
   "execution_count": 76,
   "metadata": {},
   "outputs": [
    {
     "data": {
      "image/png": "[encoded data removed]",
      "text/plain": [
       "<Figure size 432x288 with 1 Axes>"
      ]
     },
     "metadata": {
      "needs_background": "light"
     },
     "output_type": "display_data"
    }
   ],
   "source": [
    "#-------------------------------\n",
    "date_format = mpl_dates.DateFormatter('%Y-%m-%d')\n",
    "years = mdates.YearLocator()   # every year\n",
    "months = mdates.MonthLocator()  # every month\n",
    "years_fmt = mdates.DateFormatter('%Y')\n",
    "\n",
    "cleaned_list.Date = pd.to_datetime(cleaned_list.Date)\n",
    "\n",
    "x = cleaned_list.Date[29:]\n",
    "y = velocity\n",
    "window_size = 30\n",
    "i = 0\n",
    "velocity_30_avg = []\n",
    "while i < len(y) - window_size + 1:\n",
    "    this_window = y[i: i + window_size]\n",
    "    window_avg = sum(this_window) / window_size\n",
    "    velocity_30_avg.append(window_avg)\n",
    "    i += 1\n",
    "fig, ax = plt.subplots()\n",
    "ax.plot(x,velocity_30_avg)\n",
    "ax.format_xdata = mdates.DateFormatter('%Y-%m-%d')\n",
    "ax.xaxis_date()\n",
    "#-------------------------------"
   ]
  },
  {
   "cell_type": "markdown",
   "metadata": {},
   "source": [
    "# Result:\n",
    " - We can see the actual bitcoin economy is hurting right now, yes bitcoin prices are as high as ever but who is actually using bitcoin? looks like no one."
   ]
  }
 ],
 "metadata": {
  "kernelspec": {
   "display_name": "Python 3",
   "language": "python",
   "name": "python3"
  },
  "language_info": {
   "codemirror_mode": {
    "name": "ipython",
    "version": 3
   },
   "file_extension": ".py",
   "mimetype": "text/x-python",
   "name": "python",
   "nbconvert_exporter": "python",
   "pygments_lexer": "ipython3",
   "version": "3.7.6"
  }
 },
 "nbformat": 4,
 "nbformat_minor": 4
}
