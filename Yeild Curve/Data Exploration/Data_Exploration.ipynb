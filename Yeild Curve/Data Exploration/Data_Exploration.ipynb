{
 "cells": [
  {
   "cell_type": "code",
   "execution_count": 15,
   "metadata": {},
   "outputs": [],
   "source": [
    "import pandas as pd\n",
    "import numpy as np\n",
    "import matplotlib.pyplot as plt\n",
    "import datetime"
   ]
  },
  {
   "cell_type": "code",
   "execution_count": 16,
   "metadata": {},
   "outputs": [
    {
     "data": {
      "text/html": [
       "<div>\n",
       "<style scoped>\n",
       "    .dataframe tbody tr th:only-of-type {\n",
       "        vertical-align: middle;\n",
       "    }\n",
       "\n",
       "    .dataframe tbody tr th {\n",
       "        vertical-align: top;\n",
       "    }\n",
       "\n",
       "    .dataframe thead th {\n",
       "        text-align: right;\n",
       "    }\n",
       "</style>\n",
       "<table border=\"1\" class=\"dataframe\">\n",
       "  <thead>\n",
       "    <tr style=\"text-align: right;\">\n",
       "      <th></th>\n",
       "      <th>Date</th>\n",
       "      <th>1mo</th>\n",
       "      <th>2mo</th>\n",
       "      <th>3mo</th>\n",
       "      <th>6mo</th>\n",
       "      <th>1yr</th>\n",
       "      <th>2yr</th>\n",
       "      <th>3yr</th>\n",
       "      <th>5yr</th>\n",
       "      <th>7yr</th>\n",
       "      <th>10yr</th>\n",
       "      <th>20yr</th>\n",
       "      <th>30yr</th>\n",
       "    </tr>\n",
       "  </thead>\n",
       "  <tbody>\n",
       "    <tr>\n",
       "      <th>0</th>\n",
       "      <td>01/02/20</td>\n",
       "      <td>1.53</td>\n",
       "      <td>1.55</td>\n",
       "      <td>1.54</td>\n",
       "      <td>1.57</td>\n",
       "      <td>1.56</td>\n",
       "      <td>1.58</td>\n",
       "      <td>1.59</td>\n",
       "      <td>1.67</td>\n",
       "      <td>1.79</td>\n",
       "      <td>1.88</td>\n",
       "      <td>2.19</td>\n",
       "      <td>2.33</td>\n",
       "    </tr>\n",
       "    <tr>\n",
       "      <th>1</th>\n",
       "      <td>01/03/20</td>\n",
       "      <td>1.52</td>\n",
       "      <td>1.55</td>\n",
       "      <td>1.52</td>\n",
       "      <td>1.55</td>\n",
       "      <td>1.55</td>\n",
       "      <td>1.53</td>\n",
       "      <td>1.54</td>\n",
       "      <td>1.59</td>\n",
       "      <td>1.71</td>\n",
       "      <td>1.80</td>\n",
       "      <td>2.11</td>\n",
       "      <td>2.26</td>\n",
       "    </tr>\n",
       "    <tr>\n",
       "      <th>2</th>\n",
       "      <td>01/06/20</td>\n",
       "      <td>1.54</td>\n",
       "      <td>1.54</td>\n",
       "      <td>1.56</td>\n",
       "      <td>1.56</td>\n",
       "      <td>1.54</td>\n",
       "      <td>1.54</td>\n",
       "      <td>1.56</td>\n",
       "      <td>1.61</td>\n",
       "      <td>1.72</td>\n",
       "      <td>1.81</td>\n",
       "      <td>2.13</td>\n",
       "      <td>2.28</td>\n",
       "    </tr>\n",
       "    <tr>\n",
       "      <th>3</th>\n",
       "      <td>01/07/20</td>\n",
       "      <td>1.52</td>\n",
       "      <td>1.53</td>\n",
       "      <td>1.54</td>\n",
       "      <td>1.56</td>\n",
       "      <td>1.53</td>\n",
       "      <td>1.54</td>\n",
       "      <td>1.55</td>\n",
       "      <td>1.62</td>\n",
       "      <td>1.74</td>\n",
       "      <td>1.83</td>\n",
       "      <td>2.16</td>\n",
       "      <td>2.31</td>\n",
       "    </tr>\n",
       "    <tr>\n",
       "      <th>4</th>\n",
       "      <td>01/08/20</td>\n",
       "      <td>1.50</td>\n",
       "      <td>1.53</td>\n",
       "      <td>1.54</td>\n",
       "      <td>1.56</td>\n",
       "      <td>1.55</td>\n",
       "      <td>1.58</td>\n",
       "      <td>1.61</td>\n",
       "      <td>1.67</td>\n",
       "      <td>1.78</td>\n",
       "      <td>1.87</td>\n",
       "      <td>2.21</td>\n",
       "      <td>2.35</td>\n",
       "    </tr>\n",
       "  </tbody>\n",
       "</table>\n",
       "</div>"
      ],
      "text/plain": [
       "       Date   1mo   2mo   3mo   6mo   1yr   2yr   3yr   5yr   7yr  10yr  20yr  \\\n",
       "0  01/02/20  1.53  1.55  1.54  1.57  1.56  1.58  1.59  1.67  1.79  1.88  2.19   \n",
       "1  01/03/20  1.52  1.55  1.52  1.55  1.55  1.53  1.54  1.59  1.71  1.80  2.11   \n",
       "2  01/06/20  1.54  1.54  1.56  1.56  1.54  1.54  1.56  1.61  1.72  1.81  2.13   \n",
       "3  01/07/20  1.52  1.53  1.54  1.56  1.53  1.54  1.55  1.62  1.74  1.83  2.16   \n",
       "4  01/08/20  1.50  1.53  1.54  1.56  1.55  1.58  1.61  1.67  1.78  1.87  2.21   \n",
       "\n",
       "   30yr  \n",
       "0  2.33  \n",
       "1  2.26  \n",
       "2  2.28  \n",
       "3  2.31  \n",
       "4  2.35  "
      ]
     },
     "execution_count": 16,
     "metadata": {},
     "output_type": "execute_result"
    }
   ],
   "source": [
    "data = pd.read_csv('Yeild Curve.csv')\n",
    "data.head()"
   ]
  },
  {
   "cell_type": "code",
   "execution_count": 17,
   "metadata": {},
   "outputs": [],
   "source": [
    "row = data.iloc[-1]\n",
    "x = ['1mo', '2mo', '3mo', '6mo', '1yr', '2yr', '3yr', '5yr', '7yr', '10yr', '20yr', '30yr']\n",
    "y = row.values[1:]"
   ]
  },
  {
   "cell_type": "code",
   "execution_count": 18,
   "metadata": {},
   "outputs": [
    {
     "data": {
      "image/png": "[encoded data removed]",
      "text/plain": [
       "<Figure size 432x288 with 1 Axes>"
      ]
     },
     "metadata": {
      "needs_background": "light"
     },
     "output_type": "display_data"
    }
   ],
   "source": [
    "# Defining x date\n",
    "date_string = datetime.datetime.now().strftime(\"%Y-%m-%d\")\n",
    "fig = plt.figure()\n",
    "txt = \"Created By Antonio Hickey, Data Sourced from www.treasury.gov\"\n",
    "# Plotting the Curves\n",
    "plt.plot(x, y, color='cadetblue', label=date_string, lw=5)\n",
    "plt.legend()\n",
    "fig.text(.135, .00005, txt, c='black')\n",
    "plt.ylabel(\"Interest Rate %\")\n",
    "plt.title(\"Jan 1st vs Jun 26th Yeild Curves\")\n",
    "plt.show()"
   ]
  },
  {
   "cell_type": "code",
   "execution_count": null,
   "metadata": {},
   "outputs": [],
   "source": []
  }
 ],
 "metadata": {
  "kernelspec": {
   "display_name": "Python 3",
   "language": "python",
   "name": "python3"
  },
  "language_info": {
   "codemirror_mode": {
    "name": "ipython",
    "version": 3
   },
   "file_extension": ".py",
   "mimetype": "text/x-python",
   "name": "python",
   "nbconvert_exporter": "python",
   "pygments_lexer": "ipython3",
   "version": "3.7.6"
  }
 },
 "nbformat": 4,
 "nbformat_minor": 4
}
